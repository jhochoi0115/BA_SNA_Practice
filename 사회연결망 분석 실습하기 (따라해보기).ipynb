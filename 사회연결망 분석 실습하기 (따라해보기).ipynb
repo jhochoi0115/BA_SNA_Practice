{
 "cells": [
  {
   "cell_type": "markdown",
   "id": "bfc38d0a",
   "metadata": {},
   "source": [
    "---\n",
    "# 사회연결망 분석 실습하기 (따라해보기)\n",
    "\n",
    "## 201923768 최준호\n",
    "### 2021-09-19\n",
    "---"
   ]
  },
  {
   "cell_type": "markdown",
   "id": "0ec6ef31",
   "metadata": {},
   "source": [
    "다음 정리노트는 다음로부터 참고되었다고 알립니다\n",
    "\n",
    "https://kuduz.tistory.com/1087\n",
    "\n",
    "https://rpubs.com/wctucker/302110\n",
    "\n",
    "소셜 네트워크 분석 강의노트 - 강주영 교수\n",
    "\n",
    "# SNA 개념\n",
    "Social Network Analysis(사회 연결망 분석): 개인, 집단, 사회의 관계를 네트워크(복수의 노드들이 연결된 구조)로 파악\n",
    "\n",
    "네트워크: 각각의 객체들이 상호 연결된 구조\n",
    "\n",
    "노드(Node,Vertex): 개인 또는 집단 (고유한 속성을 가지고 있는 행위자)\n",
    "\n",
    "링크(Link,Edge): 각 노드들 간의 관계(relation)\n",
    "\n",
    "SNA 활용되는 R Packages: igraph, tidygraph, ggrpah\n",
    "\n",
    "# 피쳐링 실습 따라하기"
   ]
  },
  {
   "cell_type": "code",
   "execution_count": 101,
   "id": "bfa3f736",
   "metadata": {},
   "outputs": [
    {
     "name": "stderr",
     "output_type": "stream",
     "text": [
      "also installing the dependencies 'tibble', 'dplyr'\n",
      "\n"
     ]
    },
    {
     "name": "stdout",
     "output_type": "stream",
     "text": [
      "\n",
      "  There are binary versions available but the source versions are later:\n",
      "       binary source needs_compilation\n",
      "tibble  3.1.1  3.1.4              TRUE\n",
      "dplyr   1.0.6  1.0.7              TRUE\n",
      "\n",
      "package 'tidygraph' successfully unpacked and MD5 sums checked\n",
      "\n",
      "The downloaded binary packages are in\n",
      "\tC:\\Users\\COM\\AppData\\Local\\Temp\\Rtmp6N8DBM\\downloaded_packages\n"
     ]
    },
    {
     "name": "stderr",
     "output_type": "stream",
     "text": [
      "installing the source packages 'tibble', 'dplyr'\n",
      "\n",
      "Warning message in install.packages(\"tidygraph\"):\n",
      "\"installation of package 'tibble' had non-zero exit status\"Warning message in install.packages(\"tidygraph\"):\n",
      "\"installation of package 'dplyr' had non-zero exit status\""
     ]
    },
    {
     "name": "stdout",
     "output_type": "stream",
     "text": [
      "package 'ggraph' successfully unpacked and MD5 sums checked\n",
      "\n",
      "The downloaded binary packages are in\n",
      "\tC:\\Users\\COM\\AppData\\Local\\Temp\\Rtmp6N8DBM\\downloaded_packages\n",
      "package 'igraph' successfully unpacked and MD5 sums checked\n",
      "\n",
      "The downloaded binary packages are in\n",
      "\tC:\\Users\\COM\\AppData\\Local\\Temp\\Rtmp6N8DBM\\downloaded_packages\n"
     ]
    },
    {
     "name": "stderr",
     "output_type": "stream",
     "text": [
      "also installing the dependency 'tibble'\n",
      "\n"
     ]
    },
    {
     "name": "stdout",
     "output_type": "stream",
     "text": [
      "\n",
      "  There are binary versions available but the source versions are later:\n",
      "       binary source needs_compilation\n",
      "tibble  3.1.1  3.1.4              TRUE\n",
      "dplyr   1.0.6  1.0.7              TRUE\n",
      "\n"
     ]
    },
    {
     "name": "stderr",
     "output_type": "stream",
     "text": [
      "installing the source packages 'tibble', 'dplyr'\n",
      "\n",
      "Warning message in install.packages(\"dplyr\"):\n",
      "\"installation of package 'tibble' had non-zero exit status\"Warning message in install.packages(\"dplyr\"):\n",
      "\"installation of package 'dplyr' had non-zero exit status\""
     ]
    },
    {
     "name": "stdout",
     "output_type": "stream",
     "text": [
      "package 'magrittr' successfully unpacked and MD5 sums checked\n",
      "\n",
      "The downloaded binary packages are in\n",
      "\tC:\\Users\\COM\\AppData\\Local\\Temp\\Rtmp6N8DBM\\downloaded_packages\n"
     ]
    }
   ],
   "source": [
    "install.packages('tidygraph')\n",
    "install.packages('ggraph')\n",
    "install.packages('igraph')\n",
    "install.packages('dplyr')\n",
    "install.packages('magrittr')"
   ]
  },
  {
   "cell_type": "code",
   "execution_count": 102,
   "id": "fdf4710f",
   "metadata": {},
   "outputs": [
    {
     "name": "stderr",
     "output_type": "stream",
     "text": [
      "Warning message:\n",
      "\"package 'tidygraph' was built under R version 3.6.3\""
     ]
    },
    {
     "ename": "ERROR",
     "evalue": "Error: package or namespace load failed for 'tidygraph' in loadNamespace(j <- i[[1L]], c(lib.loc, .libPaths()), versionCheck = vI[[j]]):\n namespace 'dplyr' 0.8.0.1 is being loaded, but >= 0.8.5 is required\n",
     "output_type": "error",
     "traceback": [
      "Error: package or namespace load failed for 'tidygraph' in loadNamespace(j <- i[[1L]], c(lib.loc, .libPaths()), versionCheck = vI[[j]]):\n namespace 'dplyr' 0.8.0.1 is being loaded, but >= 0.8.5 is required\nTraceback:\n",
      "1. library(tidygraph)",
      "2. tryCatch({\n .     attr(package, \"LibPath\") <- which.lib.loc\n .     ns <- loadNamespace(package, lib.loc)\n .     env <- attachNamespace(ns, pos = pos, deps, exclude, include.only)\n . }, error = function(e) {\n .     P <- if (!is.null(cc <- conditionCall(e))) \n .         paste(\" in\", deparse(cc)[1L])\n .     else \"\"\n .     msg <- gettextf(\"package or namespace load failed for %s%s:\\n %s\", \n .         sQuote(package), P, conditionMessage(e))\n .     if (logical.return) \n .         message(paste(\"Error:\", msg), domain = NA)\n .     else stop(msg, call. = FALSE, domain = NA)\n . })",
      "3. tryCatchList(expr, classes, parentenv, handlers)",
      "4. tryCatchOne(expr, names, parentenv, handlers[[1L]])",
      "5. value[[3L]](cond)",
      "6. stop(msg, call. = FALSE, domain = NA)"
     ]
    }
   ],
   "source": [
    "# 초기세팅\n",
    "library(tidygraph)\n",
    "library(ggraph)\n",
    "library(igraph)\n",
    "library(dplyr)\n",
    "library(magrittr)"
   ]
  },
  {
   "cell_type": "code",
   "execution_count": 103,
   "id": "491b1062",
   "metadata": {},
   "outputs": [
    {
     "data": {
      "text/html": [
       "<table>\n",
       "<thead><tr><th scope=col>from</th><th scope=col>to</th></tr></thead>\n",
       "<tbody>\n",
       "\t<tr><td>아이유  </td><td>G-DRAGON</td></tr>\n",
       "\t<tr><td>에픽하이</td><td>아이유  </td></tr>\n",
       "\t<tr><td>에픽하이</td><td>오혁    </td></tr>\n",
       "\t<tr><td>아이유  </td><td>오혁    </td></tr>\n",
       "\t<tr><td>HIGH4   </td><td>아이유  </td></tr>\n",
       "\t<tr><td>에픽하이</td><td>MINO    </td></tr>\n",
       "</tbody>\n",
       "</table>\n"
      ],
      "text/latex": [
       "\\begin{tabular}{r|ll}\n",
       " from & to\\\\\n",
       "\\hline\n",
       "\t 아이유   & G-DRAGON\\\\\n",
       "\t 에픽하이 & 아이유  \\\\\n",
       "\t 에픽하이 & 오혁    \\\\\n",
       "\t 아이유   & 오혁    \\\\\n",
       "\t HIGH4    & 아이유  \\\\\n",
       "\t 에픽하이 & MINO    \\\\\n",
       "\\end{tabular}\n"
      ],
      "text/markdown": [
       "\n",
       "| from | to |\n",
       "|---|---|\n",
       "| 아이유   | G-DRAGON |\n",
       "| 에픽하이 | 아이유   |\n",
       "| 에픽하이 | 오혁     |\n",
       "| 아이유   | 오혁     |\n",
       "| HIGH4    | 아이유   |\n",
       "| 에픽하이 | MINO     |\n",
       "\n"
      ],
      "text/plain": [
       "  from     to      \n",
       "1 아이유   G-DRAGON\n",
       "2 에픽하이 아이유  \n",
       "3 에픽하이 오혁    \n",
       "4 아이유   오혁    \n",
       "5 HIGH4    아이유  \n",
       "6 에픽하이 MINO    "
      ]
     },
     "metadata": {},
     "output_type": "display_data"
    },
    {
     "data": {
      "text/html": [
       "'data.frame'"
      ],
      "text/latex": [
       "'data.frame'"
      ],
      "text/markdown": [
       "'data.frame'"
      ],
      "text/plain": [
       "[1] \"data.frame\""
      ]
     },
     "metadata": {},
     "output_type": "display_data"
    },
    {
     "ename": "ERROR",
     "evalue": "Error in as_tbl_graph(feat): 함수 \"as_tbl_graph\"를 찾을 수 없습니다\n",
     "output_type": "error",
     "traceback": [
      "Error in as_tbl_graph(feat): 함수 \"as_tbl_graph\"를 찾을 수 없습니다\nTraceback:\n"
     ]
    }
   ],
   "source": [
    "# 데이터프레임을 노드 엣지 그래픽 형식으로 전환\n",
    "feat <- read.csv('featuring.csv')\n",
    "head(feat)\n",
    "class(feat)\n",
    "fg <- as_tbl_graph(feat)\n",
    "class(fg)\n",
    "fg"
   ]
  },
  {
   "cell_type": "markdown",
   "id": "870243f7",
   "metadata": {},
   "source": [
    "![1](./photo/1.PNG)"
   ]
  },
  {
   "cell_type": "code",
   "execution_count": 104,
   "id": "2cd4b740",
   "metadata": {},
   "outputs": [
    {
     "ename": "ERROR",
     "evalue": "Error in plot(fg): 객체 'fg'를 찾을 수 없습니다\n",
     "output_type": "error",
     "traceback": [
      "Error in plot(fg): 객체 'fg'를 찾을 수 없습니다\nTraceback:\n",
      "1. plot(fg)"
     ]
    }
   ],
   "source": [
    "# 기본세팅으로 네트워크 구성하기\n",
    "plot(fg)"
   ]
  },
  {
   "cell_type": "markdown",
   "id": "d562adce",
   "metadata": {},
   "source": [
    "![2](./photo/2.PNG)"
   ]
  },
  {
   "cell_type": "markdown",
   "id": "8d134224",
   "metadata": {},
   "source": [
    "|코드|설명|\n",
    "|-|-|\n",
    "|ggraph()|==ggplot2::ggplot()|\n",
    "|graph_from_data_frame(d, directed = TRUE, vertices = NULL)|d: 노드 관계성 데이터프레임, directed: 화살표, vertices: 노드정보 데이터프레임|\n",
    "|geom_node_point()|노드 형성(모양,색깔,크기)|\n",
    "|geom_edge_link()|엣지 형성|\n",
    "|as_tbl_graph()|데이터프레임을 그래프 형식으로 (tidygraph)|\n",
    "|geom_node_text(aes(label=))|==ggplot2::geom_text(),geom label() 노드주석 달기|\n",
    "|graph_from_data_frame()| 데이터프레임을 그래프 형식으로 (igraph)|"
   ]
  },
  {
   "cell_type": "code",
   "execution_count": 105,
   "id": "7dcbf8c8",
   "metadata": {},
   "outputs": [
    {
     "ename": "ERROR",
     "evalue": "Error in ggraph(fg): 함수 \"ggraph\"를 찾을 수 없습니다\n",
     "output_type": "error",
     "traceback": [
      "Error in ggraph(fg): 함수 \"ggraph\"를 찾을 수 없습니다\nTraceback:\n"
     ]
    }
   ],
   "source": [
    "# 각 노드를 점으로 찍고, 엣지는 선으로 연결하기\n",
    "ggraph(fg) +  geom_node_point()  +  geom_edge_link()"
   ]
  },
  {
   "cell_type": "markdown",
   "id": "0dfa255a",
   "metadata": {},
   "source": [
    "![3](./photo/3.PNG)"
   ]
  },
  {
   "cell_type": "code",
   "execution_count": 106,
   "id": "e621fbdf",
   "metadata": {},
   "outputs": [
    {
     "ename": "ERROR",
     "evalue": "Error in feat %>% as_tbl_graph() %>% ggraph(layout = \"kk\"): 함수 \"%>%\"를 찾을 수 없습니다\n",
     "output_type": "error",
     "traceback": [
      "Error in feat %>% as_tbl_graph() %>% ggraph(layout = \"kk\"): 함수 \"%>%\"를 찾을 수 없습니다\nTraceback:\n"
     ]
    }
   ],
   "source": [
    "# 디테일 추가 (aes 활용)\n",
    "feat %>%\n",
    "  as_tbl_graph() %>%\n",
    "  ggraph(layout='kk') + \n",
    "  geom_node_text(aes(label=name)) +\n",
    "  geom_edge_link(aes(start_cap = label_rect(node1.name), end_cap = label_rect(node2.name)))"
   ]
  },
  {
   "cell_type": "markdown",
   "id": "a595c354",
   "metadata": {},
   "source": [
    "![4](./photo/4.PNG)"
   ]
  },
  {
   "cell_type": "markdown",
   "id": "e3fbfef9",
   "metadata": {},
   "source": [
    "## NODES & EDGES 레이아웃 (igraph)\n",
    "### 노드\n",
    "|||\n",
    "|-|-|\n",
    "|vertex.color| 노드 색깔|\n",
    "|vertex.frame.color| 노드 테두리 색깔|\n",
    "|vertex.shape| “none”, “circle”, “square”, “csquare”, “rectangle” “crectangle”, “vrectangle”, “pie”, “raster”, “sphere” 중 하나|\n",
    "|vertex.size| 노드 크기 (기본: 15)|\n",
    "|vertex.size2| 노드 두번째 사이즈 (모양이 다를 경우)|\n",
    "|vertex.label|노드 글자로 표시|\n",
    "|vertex.label.family| 글자 폰트|\n",
    "|vertex.label.font| Font: 1 plain, 2 bold, 3, italic, 4 bold italic, 5 symbol|\n",
    "|vertex.label.cex| 폰트 사이즈|\n",
    "|vertex.label.dist|레이블과 노드 거리|\n",
    "|vertex.label.degree| 레이블과 노드의 위치선정 -> 0 오른쪽, “pi” 왼쪽, “pi/2” 밑, and “-pi/2” 위|\n",
    "\n",
    "### 엣지\n",
    "|||\n",
    "|-|-|\n",
    "|edge.color|엣지 색깔|\n",
    "|edge.width|엣지 두깨 (기본:1)|\n",
    "|edge.arrow.size|화살표 사이즈(기본:1)|\n",
    "|edge.arrow.width|화살표 두깨(기본:1)|\n",
    "|edge.lty|엣지 줄 타입 0 or “blank”, 1 or “solid”, 2 or “dashed”, 3 or “dotted”, 4 or “dotdash”, 5 or “longdash”, 6 or “twodash”|\n",
    "|edge.label| 엣지 글자로 표기|\n",
    "|edge.label.family|글자 폰트|\n",
    "|edge.label.font|Font: 1 plain, 2 bold, 3, italic, 4 bold italic, 5 symbol|\n",
    "|edge.label.cex|글자 폰트 사이즈|\n",
    "|edge.curved|글자 휘어짐 (0~1 -> FALSE: 0, TRUE: 0.5)|\n",
    "|arrow.mode|화살표 여부 0 no arrow, 1 back, 2 forward, 3 both|\n",
    "\n",
    "# 중심성(Centrality) 지표\n",
    "||||\n",
    "|-|-|-|\n",
    "|매개 중심성|네트워크 상에서 특정 노드가 다른 노드들의 중간에서 얼마나 중개자 및 매개자 역할을 하고 있는지를 측정하는 지표|centrality_betweenness()|betweenness|\n",
    "|근접 중심성|해당 노드가 전체 네트워크 상에서 얼마나 중앙에 위치하고 있는지를 측정|centrality_closeness()|closeness|\n",
    "|고유벡터 중심성|해당노드에 직접 연결된 다른노드들의 개수뿐만 아니라 연결된 다른 노드들의 중요도 또한 함께 반영한 것|centrality_eigen()|eig|\n",
    "|연결 중심성|네트워크상에서 한 노드가 얼마나 많은 연결 관계를 가지고 있는지를 측정하는 지표|centrality_degree()|degree|\n",
    "|페이지랭크| 고유벡터 중심성 계산에서 한 노드가 높게 나오면 다른 노드까지 덩달아 중심성이 올라가는 문제점을 보완하기 위한 중심성 지표|centrality_pagerank()| |\n",
    "\n",
    "- estimate_, edge_ 활용 가능"
   ]
  },
  {
   "cell_type": "code",
   "execution_count": 107,
   "id": "81ffd842",
   "metadata": {},
   "outputs": [
    {
     "ename": "ERROR",
     "evalue": "Error in feat %>% as_tbl_graph() %>% mutate(bet = centrality_betweenness()) %>% : 함수 \"%>%\"를 찾을 수 없습니다\n",
     "output_type": "error",
     "traceback": [
      "Error in feat %>% as_tbl_graph() %>% mutate(bet = centrality_betweenness()) %>% : 함수 \"%>%\"를 찾을 수 없습니다\nTraceback:\n"
     ]
    }
   ],
   "source": [
    "# 매개 중심성 구하기\n",
    "feat %>% \n",
    "  as_tbl_graph() %>% \n",
    "  mutate(bet= centrality_betweenness()) %>%\n",
    "  as_tibble %>%\n",
    "  arrange(desc(bet))\n",
    "# (+) tbl_graph형식이기 때문에 tibble를 활용함"
   ]
  },
  {
   "cell_type": "markdown",
   "id": "e5a3982d",
   "metadata": {},
   "source": [
    "![6](./photo/6.PNG)"
   ]
  },
  {
   "cell_type": "code",
   "execution_count": 108,
   "id": "642b9a9c",
   "metadata": {},
   "outputs": [
    {
     "ename": "ERROR",
     "evalue": "Error in feat %>% as_tbl_graph() %>% with_graph(graph_mean_dist()): 함수 \"%>%\"를 찾을 수 없습니다\n",
     "output_type": "error",
     "traceback": [
      "Error in feat %>% as_tbl_graph() %>% with_graph(graph_mean_dist()): 함수 \"%>%\"를 찾을 수 없습니다\nTraceback:\n"
     ]
    }
   ],
   "source": [
    "# 거리 구하기\n",
    "feat %>% as_tbl_graph() %>%\n",
    "  with_graph(graph_mean_dist())"
   ]
  },
  {
   "cell_type": "markdown",
   "id": "291d5956",
   "metadata": {},
   "source": [
    "![7](./photo/7.PNG)"
   ]
  },
  {
   "cell_type": "markdown",
   "id": "b9beebeb",
   "metadata": {},
   "source": [
    "----\n",
    "# 지하철 노선으로 SNA 만들기"
   ]
  },
  {
   "cell_type": "code",
   "execution_count": 109,
   "id": "d1649472",
   "metadata": {},
   "outputs": [
    {
     "data": {
      "text/html": [
       "<table>\n",
       "<thead><tr><th scope=col>from</th><th scope=col>to</th><th scope=col>line</th></tr></thead>\n",
       "<tbody>\n",
       "\t<tr><td>소요산    </td><td>동두천    </td><td>1         </td></tr>\n",
       "\t<tr><td>동두천    </td><td>보산      </td><td>1         </td></tr>\n",
       "\t<tr><td>보산      </td><td>동두천중앙</td><td>1         </td></tr>\n",
       "\t<tr><td>동두천중앙</td><td>지행      </td><td>1         </td></tr>\n",
       "\t<tr><td>지행      </td><td>덕정      </td><td>1         </td></tr>\n",
       "\t<tr><td>덕정      </td><td>덕계      </td><td>1         </td></tr>\n",
       "</tbody>\n",
       "</table>\n"
      ],
      "text/latex": [
       "\\begin{tabular}{r|lll}\n",
       " from & to & line\\\\\n",
       "\\hline\n",
       "\t 소요산     & 동두천     & 1         \\\\\n",
       "\t 동두천     & 보산       & 1         \\\\\n",
       "\t 보산       & 동두천중앙 & 1         \\\\\n",
       "\t 동두천중앙 & 지행       & 1         \\\\\n",
       "\t 지행       & 덕정       & 1         \\\\\n",
       "\t 덕정       & 덕계       & 1         \\\\\n",
       "\\end{tabular}\n"
      ],
      "text/markdown": [
       "\n",
       "| from | to | line |\n",
       "|---|---|---|\n",
       "| 소요산     | 동두천     | 1          |\n",
       "| 동두천     | 보산       | 1          |\n",
       "| 보산       | 동두천중앙 | 1          |\n",
       "| 동두천중앙 | 지행       | 1          |\n",
       "| 지행       | 덕정       | 1          |\n",
       "| 덕정       | 덕계       | 1          |\n",
       "\n"
      ],
      "text/plain": [
       "  from       to         line\n",
       "1 소요산     동두천     1   \n",
       "2 동두천     보산       1   \n",
       "3 보산       동두천중앙 1   \n",
       "4 동두천중앙 지행       1   \n",
       "5 지행       덕정       1   \n",
       "6 덕정       덕계       1   "
      ]
     },
     "metadata": {},
     "output_type": "display_data"
    }
   ],
   "source": [
    "# 파일 열기\n",
    "subway <- read.csv('subway.csv')\n",
    "head(subway)"
   ]
  },
  {
   "cell_type": "code",
   "execution_count": 110,
   "id": "5f8cde7f",
   "metadata": {},
   "outputs": [
    {
     "ename": "ERROR",
     "evalue": "Error in subway %>% as_tbl_graph() %>% ggraph(layout = \"kk\"): 함수 \"%>%\"를 찾을 수 없습니다\n",
     "output_type": "error",
     "traceback": [
      "Error in subway %>% as_tbl_graph() %>% ggraph(layout = \"kk\"): 함수 \"%>%\"를 찾을 수 없습니다\nTraceback:\n"
     ]
    }
   ],
   "source": [
    "# 역을 호선별로 연결 (수도권 전철 노선)\n",
    "subway %>% as_tbl_graph() %>%\n",
    "  ggraph(layout='kk') + \n",
    "  geom_edge_link(aes(color=line)) + \n",
    "  geom_node_point(color='gray25', size=1)"
   ]
  },
  {
   "cell_type": "markdown",
   "id": "3c728473",
   "metadata": {},
   "source": [
    "![5](./photo/5.PNG)"
   ]
  },
  {
   "cell_type": "code",
   "execution_count": 111,
   "id": "aafe0c88",
   "metadata": {},
   "outputs": [
    {
     "ename": "ERROR",
     "evalue": "Error in subway %>% as_tbl_graph() %>% mutate(eig = centrality_eigen()) %>% : 함수 \"%>%\"를 찾을 수 없습니다\n",
     "output_type": "error",
     "traceback": [
      "Error in subway %>% as_tbl_graph() %>% mutate(eig = centrality_eigen()) %>% : 함수 \"%>%\"를 찾을 수 없습니다\nTraceback:\n"
     ]
    }
   ],
   "source": [
    "# 고유벡터 중심성 구하기\n",
    "subway %>% as_tbl_graph() %>%\n",
    "  mutate(eig=centrality_eigen()) %>%\n",
    "  as_tibble %>% arrange(desc(eig))"
   ]
  },
  {
   "cell_type": "markdown",
   "id": "fd686f4d",
   "metadata": {},
   "source": [
    "![8](./photo/8.PNG)"
   ]
  },
  {
   "cell_type": "markdown",
   "id": "9297afcf",
   "metadata": {},
   "source": [
    "중심성을 계산할 때 엣지를 모두 똑같이 취급하였으며 승하차 인원 고려해지 못해 동의하기 어려운 결과가 나옴\n",
    "\n",
    "----\n",
    "# 지하철 노선으로 SNA 만들기 PART 2"
   ]
  },
  {
   "cell_type": "code",
   "execution_count": 112,
   "id": "5af5d53b",
   "metadata": {},
   "outputs": [
    {
     "data": {
      "text/html": [
       "<table>\n",
       "<thead><tr><th scope=col>from</th><th scope=col>to</th><th scope=col>total</th></tr></thead>\n",
       "<tbody>\n",
       "\t<tr><td>가능          </td><td>가락시장      </td><td>103           </td></tr>\n",
       "\t<tr><td>가능          </td><td>가산디지털단지</td><td>593           </td></tr>\n",
       "\t<tr><td>가능          </td><td>가양          </td><td>102           </td></tr>\n",
       "\t<tr><td>가능          </td><td>가재울        </td><td>  1           </td></tr>\n",
       "\t<tr><td>가능          </td><td>가정          </td><td>  2           </td></tr>\n",
       "\t<tr><td>가능          </td><td>가정중앙시장  </td><td>  5           </td></tr>\n",
       "</tbody>\n",
       "</table>\n"
      ],
      "text/latex": [
       "\\begin{tabular}{r|lll}\n",
       " from & to & total\\\\\n",
       "\\hline\n",
       "\t 가능           & 가락시장       & 103           \\\\\n",
       "\t 가능           & 가산디지털단지 & 593           \\\\\n",
       "\t 가능           & 가양           & 102           \\\\\n",
       "\t 가능           & 가재울         &   1           \\\\\n",
       "\t 가능           & 가정           &   2           \\\\\n",
       "\t 가능           & 가정중앙시장   &   5           \\\\\n",
       "\\end{tabular}\n"
      ],
      "text/markdown": [
       "\n",
       "| from | to | total |\n",
       "|---|---|---|\n",
       "| 가능           | 가락시장       | 103            |\n",
       "| 가능           | 가산디지털단지 | 593            |\n",
       "| 가능           | 가양           | 102            |\n",
       "| 가능           | 가재울         |   1            |\n",
       "| 가능           | 가정           |   2            |\n",
       "| 가능           | 가정중앙시장   |   5            |\n",
       "\n"
      ],
      "text/plain": [
       "  from to             total\n",
       "1 가능 가락시장       103  \n",
       "2 가능 가산디지털단지 593  \n",
       "3 가능 가양           102  \n",
       "4 가능 가재울           1  \n",
       "5 가능 가정             2  \n",
       "6 가능 가정중앙시장     5  "
      ]
     },
     "metadata": {},
     "output_type": "display_data"
    }
   ],
   "source": [
    "metro <- read.csv('metro.csv')\n",
    "head(metro)"
   ]
  },
  {
   "cell_type": "code",
   "execution_count": 113,
   "id": "db48bacd",
   "metadata": {
    "scrolled": true
   },
   "outputs": [
    {
     "ename": "ERROR",
     "evalue": "Error in metro %>% as_tbl_graph() %>% mutate(eig = centrality_eigen()) %>% : 함수 \"%>%\"를 찾을 수 없습니다\n",
     "output_type": "error",
     "traceback": [
      "Error in metro %>% as_tbl_graph() %>% mutate(eig = centrality_eigen()) %>% : 함수 \"%>%\"를 찾을 수 없습니다\nTraceback:\n"
     ]
    }
   ],
   "source": [
    "# 고유벡터 중심성 구하기\n",
    "metro %>% as_tbl_graph() %>%\n",
    "  mutate(eig=centrality_eigen()) %>%\n",
    "  as_tibble %>% \n",
    "  arrange(desc(eig))"
   ]
  },
  {
   "cell_type": "markdown",
   "id": "06ae56cf",
   "metadata": {},
   "source": [
    "![9](./photo/9.PNG)"
   ]
  },
  {
   "cell_type": "markdown",
   "id": "531bf59b",
   "metadata": {},
   "source": [
    "결과: 값이 다 똑같이 나옴 (이유: 가중치를 고려하지 않음)"
   ]
  },
  {
   "cell_type": "code",
   "execution_count": 114,
   "id": "16b3ae3e",
   "metadata": {},
   "outputs": [
    {
     "ename": "ERROR",
     "evalue": "Error in metro %>% as_tbl_graph() %>% mutate(eig = centrality_pagerank(weights = total)) %>% : 함수 \"%>%\"를 찾을 수 없습니다\n",
     "output_type": "error",
     "traceback": [
      "Error in metro %>% as_tbl_graph() %>% mutate(eig = centrality_pagerank(weights = total)) %>% : 함수 \"%>%\"를 찾을 수 없습니다\nTraceback:\n"
     ]
    }
   ],
   "source": [
    "# 가중치를 고려한 중심성 구하기\n",
    "metro %>% as_tbl_graph() %>%\n",
    "  mutate(eig=centrality_pagerank(weights=total)) %>%\n",
    "  as_tibble %>% \n",
    "  arrange(desc(eig))"
   ]
  },
  {
   "cell_type": "markdown",
   "id": "e2216b92",
   "metadata": {},
   "source": [
    "![10](./photo/10.PNG)"
   ]
  },
  {
   "cell_type": "markdown",
   "id": "a37c3c73",
   "metadata": {},
   "source": [
    "----\n",
    "# 프로배구 남자부 데이터 활용하기"
   ]
  },
  {
   "cell_type": "code",
   "execution_count": 115,
   "id": "5b3fdfa1",
   "metadata": {},
   "outputs": [
    {
     "data": {
      "text/html": [
       "<table>\n",
       "<thead><tr><th scope=col>선수</th><th scope=col>고교</th><th scope=col>대학</th></tr></thead>\n",
       "<tbody>\n",
       "\t<tr><td>곽승석      </td><td>동성고      </td><td>경기대      </td></tr>\n",
       "\t<tr><td>김학민      </td><td>수성고      </td><td>경희대      </td></tr>\n",
       "\t<tr><td>심홍석      </td><td>경북사대부고</td><td>홍익대      </td></tr>\n",
       "\t<tr><td>정지석      </td><td>송림고      </td><td>            </td></tr>\n",
       "\t<tr><td>임동혁      </td><td>제천산업고  </td><td>            </td></tr>\n",
       "\t<tr><td>김규민      </td><td>벌교상고    </td><td>경기대      </td></tr>\n",
       "</tbody>\n",
       "</table>\n"
      ],
      "text/latex": [
       "\\begin{tabular}{r|lll}\n",
       " 선수 & 고교 & 대학\\\\\n",
       "\\hline\n",
       "\t 곽승석       & 동성고       & 경기대      \\\\\n",
       "\t 김학민       & 수성고       & 경희대      \\\\\n",
       "\t 심홍석       & 경북사대부고 & 홍익대      \\\\\n",
       "\t 정지석       & 송림고       &             \\\\\n",
       "\t 임동혁       & 제천산업고   &             \\\\\n",
       "\t 김규민       & 벌교상고     & 경기대      \\\\\n",
       "\\end{tabular}\n"
      ],
      "text/markdown": [
       "\n",
       "| 선수 | 고교 | 대학 |\n",
       "|---|---|---|\n",
       "| 곽승석       | 동성고       | 경기대       |\n",
       "| 김학민       | 수성고       | 경희대       |\n",
       "| 심홍석       | 경북사대부고 | 홍익대       |\n",
       "| 정지석       | 송림고       |              |\n",
       "| 임동혁       | 제천산업고   |              |\n",
       "| 김규민       | 벌교상고     | 경기대       |\n",
       "\n"
      ],
      "text/plain": [
       "  선수   고교         대학  \n",
       "1 곽승석 동성고       경기대\n",
       "2 김학민 수성고       경희대\n",
       "3 심홍석 경북사대부고 홍익대\n",
       "4 정지석 송림고             \n",
       "5 임동혁 제천산업고         \n",
       "6 김규민 벌교상고     경기대"
      ]
     },
     "metadata": {},
     "output_type": "display_data"
    }
   ],
   "source": [
    "k <- read.csv('kovo.csv')\n",
    "head(k)"
   ]
  },
  {
   "cell_type": "code",
   "execution_count": 116,
   "id": "f8830cc7",
   "metadata": {},
   "outputs": [],
   "source": [
    "# 데이터 전처리\n",
    "k_고교 <- k[, c(1, 2)]\n",
    "k_대학 <- k[, c(1, 3)]\n",
    "names(k_고교)[2] <- '학교'\n",
    "names(k_대학)[2] <- '학교'\n",
    "k <- rbind(k_고교, k_대학)"
   ]
  },
  {
   "cell_type": "code",
   "execution_count": 117,
   "id": "158b3c6c",
   "metadata": {},
   "outputs": [
    {
     "ename": "ERROR",
     "evalue": "Error in k %>% as_tbl_graph() %>% mutate(eig = centrality_eigen()) %>% : 함수 \"%>%\"를 찾을 수 없습니다\n",
     "output_type": "error",
     "traceback": [
      "Error in k %>% as_tbl_graph() %>% mutate(eig = centrality_eigen()) %>% : 함수 \"%>%\"를 찾을 수 없습니다\nTraceback:\n"
     ]
    }
   ],
   "source": [
    "# 고유벡터 중심성 구하기\n",
    "k %>% as_tbl_graph() %>%\n",
    "  mutate(eig=centrality_eigen()) %>%\n",
    "  arrange(desc(eig)) %>%\n",
    "  as_tibble"
   ]
  },
  {
   "cell_type": "markdown",
   "id": "1f539cb0",
   "metadata": {},
   "source": [
    "![11](./photo/11.PNG)"
   ]
  },
  {
   "cell_type": "code",
   "execution_count": 118,
   "id": "6e9cd942",
   "metadata": {},
   "outputs": [
    {
     "ename": "ERROR",
     "evalue": "Error in k %>% as_tbl_graph() %>% mutate(pr = centrality_pagerank()) %>% : 함수 \"%>%\"를 찾을 수 없습니다\n",
     "output_type": "error",
     "traceback": [
      "Error in k %>% as_tbl_graph() %>% mutate(pr = centrality_pagerank()) %>% : 함수 \"%>%\"를 찾을 수 없습니다\nTraceback:\n"
     ]
    }
   ],
   "source": [
    "# 페이지랭크를 활용하기\n",
    "# 중심을 사람보다는 학교에 맞춤\n",
    "k %>% as_tbl_graph() %>%\n",
    "  mutate(pr=centrality_pagerank()) %>%\n",
    "  arrange(desc(pr)) %>%\n",
    "  as_tibble"
   ]
  },
  {
   "attachments": {},
   "cell_type": "markdown",
   "id": "8052f52e",
   "metadata": {},
   "source": [
    "![12](./photo/12.PNG)"
   ]
  },
  {
   "cell_type": "code",
   "execution_count": 119,
   "id": "7b2cef36",
   "metadata": {},
   "outputs": [
    {
     "ename": "ERROR",
     "evalue": "Error in graph_from_data_frame(k): 함수 \"graph_from_data_frame\"를 찾을 수 없습니다\n",
     "output_type": "error",
     "traceback": [
      "Error in graph_from_data_frame(k): 함수 \"graph_from_data_frame\"를 찾을 수 없습니다\nTraceback:\n"
     ]
    }
   ],
   "source": [
    "kg <- graph_from_data_frame(k)\n",
    "V(kg)$type <- bipartite_mapping(kg)$type\n",
    "km <- as_incidence_matrix(kg)\n",
    "km <- km %*% t(km)\n",
    "diag(km) <- 0\n",
    "km %>% as_tbl_graph()"
   ]
  },
  {
   "cell_type": "markdown",
   "id": "d3974ce3",
   "metadata": {},
   "source": [
    "![13](./photo/13.PNG)"
   ]
  },
  {
   "cell_type": "markdown",
   "id": "c7e57475",
   "metadata": {},
   "source": [
    "선수 위주로 나왔으며 엣지에 가중치가 부여됨\n",
    "고교 or 대학 동문: 가중치 1 BOTH 고교 and 대학 동문: 가중치 2"
   ]
  },
  {
   "cell_type": "code",
   "execution_count": 120,
   "id": "344ac5ad",
   "metadata": {},
   "outputs": [
    {
     "ename": "ERROR",
     "evalue": "Error in km %>% as_tbl_graph() %>% mutate(pg = centrality_pagerank()) %>% : 함수 \"%>%\"를 찾을 수 없습니다\n",
     "output_type": "error",
     "traceback": [
      "Error in km %>% as_tbl_graph() %>% mutate(pg = centrality_pagerank()) %>% : 함수 \"%>%\"를 찾을 수 없습니다\nTraceback:\n"
     ]
    }
   ],
   "source": [
    "# 학교 없이 선수만 대상으로 페이지랭크를 구할 경우\n",
    "km %>% as_tbl_graph() %>%\n",
    "  mutate(pg=centrality_pagerank()) %>%\n",
    "  arrange(desc(pg)) %>%\n",
    "  as_tibble"
   ]
  },
  {
   "cell_type": "markdown",
   "id": "cf80e7e8",
   "metadata": {},
   "source": [
    "![14](./photo/14.PNG)"
   ]
  },
  {
   "cell_type": "markdown",
   "id": "5b76e674",
   "metadata": {},
   "source": [
    "가중치가 부여되어서 공통 고교&대학인 강민웅과 신이뜸이 제일 중요한 인물이 됨"
   ]
  },
  {
   "cell_type": "code",
   "execution_count": 121,
   "id": "83d5ddda",
   "metadata": {},
   "outputs": [
    {
     "ename": "ERROR",
     "evalue": "Error in km %>% as_tbl_graph() %>% mutate(pg = centrality_pagerank(), : 함수 \"%>%\"를 찾을 수 없습니다\n",
     "output_type": "error",
     "traceback": [
      "Error in km %>% as_tbl_graph() %>% mutate(pg = centrality_pagerank(), : 함수 \"%>%\"를 찾을 수 없습니다\nTraceback:\n"
     ]
    }
   ],
   "source": [
    "# SNA 남자 배구 결과\n",
    "km %>% as_tbl_graph() %>%\n",
    "  mutate(pg=centrality_pagerank(),\n",
    "         cm=group_infomap()) %>%        #group_infomap: 비슷한 특징 있는 노드끼리 그룹핑\n",
    "  ggraph(layout='lgl') + \n",
    "  geom_edge_link(aes(width=weight), alpha=.8) +\n",
    "  scale_edge_width(range=c(0.2, 2)) +\n",
    "  geom_node_point(aes(size=pg, color=as.factor(cm)))"
   ]
  },
  {
   "cell_type": "markdown",
   "id": "96b9ecd1",
   "metadata": {},
   "source": [
    "![last](./photo/last.PNG)"
   ]
  }
 ],
 "metadata": {
  "kernelspec": {
   "display_name": "R",
   "language": "R",
   "name": "ir"
  },
  "language_info": {
   "codemirror_mode": "r",
   "file_extension": ".r",
   "mimetype": "text/x-r-source",
   "name": "R",
   "pygments_lexer": "r",
   "version": "3.6.1"
  }
 },
 "nbformat": 4,
 "nbformat_minor": 5
}
